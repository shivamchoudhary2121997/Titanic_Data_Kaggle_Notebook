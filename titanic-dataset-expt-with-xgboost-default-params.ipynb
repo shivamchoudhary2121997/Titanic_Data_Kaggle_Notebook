{
 "cells": [
  {
   "cell_type": "code",
   "execution_count": 1,
   "metadata": {
    "_cell_guid": "b1076dfc-b9ad-4769-8c92-a6c4dae69d19",
    "_uuid": "8f2839f25d086af736a60e9eeb907d3b93b6e0e5",
    "execution": {
     "iopub.execute_input": "2020-11-03T01:45:37.379171Z",
     "iopub.status.busy": "2020-11-03T01:45:37.378494Z",
     "iopub.status.idle": "2020-11-03T01:45:37.383683Z",
     "shell.execute_reply": "2020-11-03T01:45:37.382940Z"
    },
    "papermill": {
     "duration": 0.026734,
     "end_time": "2020-11-03T01:45:37.383838",
     "exception": false,
     "start_time": "2020-11-03T01:45:37.357104",
     "status": "completed"
    },
    "tags": []
   },
   "outputs": [
    {
     "name": "stdout",
     "output_type": "stream",
     "text": [
      "/kaggle/input/titanic/gender_submission.csv\n",
      "/kaggle/input/titanic/test.csv\n",
      "/kaggle/input/titanic/train.csv\n"
     ]
    }
   ],
   "source": [
    "# This Python 3 environment comes with many helpful analytics libraries installed\n",
    "# It is defined by the kaggle/python Docker image: https://github.com/kaggle/docker-python\n",
    "# For example, here's several helpful packages to load\n",
    "\n",
    "import numpy as np # linear algebra\n",
    "import pandas as pd # data processing, CSV file I/O (e.g. pd.read_csv)\n",
    "\n",
    "# Input data files are available in the read-only \"../input/\" directory\n",
    "# For example, running this (by clicking run or pressing Shift+Enter) will list all files under the input directory\n",
    "\n",
    "import os\n",
    "for dirname, _, filenames in os.walk('/kaggle/input'):\n",
    "    for filename in filenames:\n",
    "        print(os.path.join(dirname, filename))\n",
    "\n",
    "# You can write up to 5GB to the current directory (/kaggle/working/) that gets preserved as output when you create a version using \"Save & Run All\" \n",
    "# You can also write temporary files to /kaggle/temp/, but they won't be saved outside of the current session"
   ]
  },
  {
   "cell_type": "markdown",
   "metadata": {
    "papermill": {
     "duration": 0.014559,
     "end_time": "2020-11-03T01:45:37.414795",
     "exception": false,
     "start_time": "2020-11-03T01:45:37.400236",
     "status": "completed"
    },
    "tags": []
   },
   "source": [
    "# Importing relevant libraries"
   ]
  },
  {
   "cell_type": "code",
   "execution_count": 2,
   "metadata": {
    "execution": {
     "iopub.execute_input": "2020-11-03T01:45:37.450158Z",
     "iopub.status.busy": "2020-11-03T01:45:37.449504Z",
     "iopub.status.idle": "2020-11-03T01:45:39.349844Z",
     "shell.execute_reply": "2020-11-03T01:45:39.349171Z"
    },
    "papermill": {
     "duration": 1.919887,
     "end_time": "2020-11-03T01:45:39.349958",
     "exception": false,
     "start_time": "2020-11-03T01:45:37.430071",
     "status": "completed"
    },
    "tags": []
   },
   "outputs": [],
   "source": [
    "# import relevant libraries\n",
    "import sklearn \n",
    "from sklearn.model_selection import train_test_split,GridSearchCV\n",
    "from sklearn.metrics import make_scorer\n",
    "import xgboost as xgb"
   ]
  },
  {
   "cell_type": "markdown",
   "metadata": {
    "papermill": {
     "duration": 0.014465,
     "end_time": "2020-11-03T01:45:39.381507",
     "exception": false,
     "start_time": "2020-11-03T01:45:39.367042",
     "status": "completed"
    },
    "tags": []
   },
   "source": [
    "# Defining functions to be used in the final computation"
   ]
  },
  {
   "cell_type": "code",
   "execution_count": 3,
   "metadata": {
    "execution": {
     "iopub.execute_input": "2020-11-03T01:45:39.420119Z",
     "iopub.status.busy": "2020-11-03T01:45:39.419457Z",
     "iopub.status.idle": "2020-11-03T01:45:39.422944Z",
     "shell.execute_reply": "2020-11-03T01:45:39.422277Z"
    },
    "papermill": {
     "duration": 0.026385,
     "end_time": "2020-11-03T01:45:39.423056",
     "exception": false,
     "start_time": "2020-11-03T01:45:39.396671",
     "status": "completed"
    },
    "tags": []
   },
   "outputs": [],
   "source": [
    "def train_data_clean(data):\n",
    "    data_nullcount = data.isnull().sum()\n",
    "    col_null_vals = list(data_nullcount[data_nullcount!=0].index)\n",
    "    if len(col_null_vals)==0:\n",
    "        return data\n",
    "    data_dtypes = data.dtypes\n",
    "    for colname in col_null_vals:\n",
    "        if data_dtypes[colname]==object:\n",
    "            data[colname]=data[colname].fillna(data[colname].mode()[0])\n",
    "        else:\n",
    "            data[colname]=data[colname].fillna(data[colname].mean())\n",
    "    return data"
   ]
  },
  {
   "cell_type": "code",
   "execution_count": 4,
   "metadata": {
    "execution": {
     "iopub.execute_input": "2020-11-03T01:45:39.461757Z",
     "iopub.status.busy": "2020-11-03T01:45:39.461051Z",
     "iopub.status.idle": "2020-11-03T01:45:39.464133Z",
     "shell.execute_reply": "2020-11-03T01:45:39.463428Z"
    },
    "papermill": {
     "duration": 0.025966,
     "end_time": "2020-11-03T01:45:39.464253",
     "exception": false,
     "start_time": "2020-11-03T01:45:39.438287",
     "status": "completed"
    },
    "tags": []
   },
   "outputs": [],
   "source": [
    "def test_impute_using_train_data(test_data,train_data):\n",
    "    data_test_isnull = test_data.isnull().sum()\n",
    "    null_collist = list(data_test_isnull[data_test_isnull!=0].index)\n",
    "    if len(null_collist)==0:\n",
    "        return test_data\n",
    "    data_dtypes = test_data.dtypes\n",
    "    for colname in null_collist:\n",
    "        if data_dtypes[colname]==object:\n",
    "            test_data[colname]=test_data[colname].fillna(train_data[colname].mode()[0])\n",
    "        else:\n",
    "            test_data[colname]=test_data[colname].fillna(train_data[colname].mean())\n",
    "    return test_data"
   ]
  },
  {
   "cell_type": "code",
   "execution_count": 5,
   "metadata": {
    "execution": {
     "iopub.execute_input": "2020-11-03T01:45:39.500598Z",
     "iopub.status.busy": "2020-11-03T01:45:39.499911Z",
     "iopub.status.idle": "2020-11-03T01:45:39.503145Z",
     "shell.execute_reply": "2020-11-03T01:45:39.502572Z"
    },
    "papermill": {
     "duration": 0.023907,
     "end_time": "2020-11-03T01:45:39.503260",
     "exception": false,
     "start_time": "2020-11-03T01:45:39.479353",
     "status": "completed"
    },
    "tags": []
   },
   "outputs": [],
   "source": [
    "def test_data_prep_titanic(data,columns_to_drop,colnames):\n",
    "    data = data.drop(columns_to_drop,axis=1)\n",
    "    data_dum = pd.get_dummies(data,drop_first=True)\n",
    "    data_dum_2 = data_dum[colnames]\n",
    "    xdata = data_dum_2.values\n",
    "    return xdata"
   ]
  },
  {
   "cell_type": "code",
   "execution_count": 6,
   "metadata": {
    "execution": {
     "iopub.execute_input": "2020-11-03T01:45:39.540239Z",
     "iopub.status.busy": "2020-11-03T01:45:39.539234Z",
     "iopub.status.idle": "2020-11-03T01:45:39.542880Z",
     "shell.execute_reply": "2020-11-03T01:45:39.542252Z"
    },
    "papermill": {
     "duration": 0.02461,
     "end_time": "2020-11-03T01:45:39.543004",
     "exception": false,
     "start_time": "2020-11-03T01:45:39.518394",
     "status": "completed"
    },
    "tags": []
   },
   "outputs": [],
   "source": [
    "def data_prep_titanic(data,columns_to_drop):\n",
    "    data = data.drop(columns_to_drop,axis=1)\n",
    "    data_train = data.drop(['Survived'],axis=1)\n",
    "    data_dum = pd.get_dummies(data_train,drop_first=True)\n",
    "    ydata = data['Survived'].values\n",
    "    xdata = data_dum.values\n",
    "    colnames = data_dum.columns\n",
    "    return xdata,ydata,colnames"
   ]
  },
  {
   "cell_type": "code",
   "execution_count": 7,
   "metadata": {
    "execution": {
     "iopub.execute_input": "2020-11-03T01:45:39.580797Z",
     "iopub.status.busy": "2020-11-03T01:45:39.579952Z",
     "iopub.status.idle": "2020-11-03T01:45:39.583672Z",
     "shell.execute_reply": "2020-11-03T01:45:39.584301Z"
    },
    "papermill": {
     "duration": 0.024234,
     "end_time": "2020-11-03T01:45:39.584453",
     "exception": false,
     "start_time": "2020-11-03T01:45:39.560219",
     "status": "completed"
    },
    "tags": []
   },
   "outputs": [],
   "source": [
    "def accuracy_metric(ytrue,ypred):\n",
    "    score = sum(ypred==ytrue)/len(ypred)\n",
    "    return score"
   ]
  },
  {
   "cell_type": "code",
   "execution_count": 8,
   "metadata": {
    "execution": {
     "iopub.execute_input": "2020-11-03T01:45:39.620965Z",
     "iopub.status.busy": "2020-11-03T01:45:39.619986Z",
     "iopub.status.idle": "2020-11-03T01:45:39.623244Z",
     "shell.execute_reply": "2020-11-03T01:45:39.622590Z"
    },
    "papermill": {
     "duration": 0.023598,
     "end_time": "2020-11-03T01:45:39.623360",
     "exception": false,
     "start_time": "2020-11-03T01:45:39.599762",
     "status": "completed"
    },
    "tags": []
   },
   "outputs": [],
   "source": [
    "# Perform grid search on xgboost\n",
    "def xgboost_grid_search(model,params_grid,xtrain,ytrain):\n",
    "    score_obj = make_scorer(accuracy_metric, greater_is_better=True)\n",
    "    clf_search = GridSearchCV(model, params_grid,scoring=score_obj)\n",
    "    clf_search.fit(xtrain,ytrain)\n",
    "    return clf_search.best_params_"
   ]
  },
  {
   "cell_type": "markdown",
   "metadata": {
    "papermill": {
     "duration": 0.014991,
     "end_time": "2020-11-03T01:45:39.653679",
     "exception": false,
     "start_time": "2020-11-03T01:45:39.638688",
     "status": "completed"
    },
    "tags": []
   },
   "source": [
    "# Loading dataset and preparing it for building model"
   ]
  },
  {
   "cell_type": "code",
   "execution_count": 9,
   "metadata": {
    "execution": {
     "iopub.execute_input": "2020-11-03T01:45:39.690822Z",
     "iopub.status.busy": "2020-11-03T01:45:39.689703Z",
     "iopub.status.idle": "2020-11-03T01:45:39.703030Z",
     "shell.execute_reply": "2020-11-03T01:45:39.702361Z"
    },
    "papermill": {
     "duration": 0.034151,
     "end_time": "2020-11-03T01:45:39.703187",
     "exception": false,
     "start_time": "2020-11-03T01:45:39.669036",
     "status": "completed"
    },
    "tags": []
   },
   "outputs": [],
   "source": [
    "train_data_part = pd.read_csv('../input/titanic/train.csv')\n",
    "# train_data_new = train_data_clean(train_data_part.copy())\n",
    "# cols_todrop = ['PassengerId','Name','Ticket','Cabin']\n",
    "# xdata,ydata,colnames = data_prep_titanic(train_data_new.copy(),cols_todrop)\n",
    "# xtrain,xtest,ytrain,ytest = train_test_split(xdata,ydata,test_size=0.2,random_state=100,stratify=ydata)"
   ]
  },
  {
   "cell_type": "code",
   "execution_count": 10,
   "metadata": {
    "execution": {
     "iopub.execute_input": "2020-11-03T01:45:39.751019Z",
     "iopub.status.busy": "2020-11-03T01:45:39.750313Z",
     "iopub.status.idle": "2020-11-03T01:45:39.762541Z",
     "shell.execute_reply": "2020-11-03T01:45:39.761990Z"
    },
    "papermill": {
     "duration": 0.043927,
     "end_time": "2020-11-03T01:45:39.762654",
     "exception": false,
     "start_time": "2020-11-03T01:45:39.718727",
     "status": "completed"
    },
    "tags": []
   },
   "outputs": [
    {
     "data": {
      "text/html": [
       "<div>\n",
       "<style scoped>\n",
       "    .dataframe tbody tr th:only-of-type {\n",
       "        vertical-align: middle;\n",
       "    }\n",
       "\n",
       "    .dataframe tbody tr th {\n",
       "        vertical-align: top;\n",
       "    }\n",
       "\n",
       "    .dataframe thead th {\n",
       "        text-align: right;\n",
       "    }\n",
       "</style>\n",
       "<table border=\"1\" class=\"dataframe\">\n",
       "  <thead>\n",
       "    <tr style=\"text-align: right;\">\n",
       "      <th></th>\n",
       "      <th>PassengerId</th>\n",
       "      <th>Survived</th>\n",
       "      <th>Pclass</th>\n",
       "      <th>Name</th>\n",
       "      <th>Sex</th>\n",
       "      <th>Age</th>\n",
       "      <th>SibSp</th>\n",
       "      <th>Parch</th>\n",
       "      <th>Ticket</th>\n",
       "      <th>Fare</th>\n",
       "      <th>Cabin</th>\n",
       "      <th>Embarked</th>\n",
       "    </tr>\n",
       "  </thead>\n",
       "  <tbody>\n",
       "    <tr>\n",
       "      <th>0</th>\n",
       "      <td>1</td>\n",
       "      <td>0</td>\n",
       "      <td>3</td>\n",
       "      <td>Braund, Mr. Owen Harris</td>\n",
       "      <td>male</td>\n",
       "      <td>22.0</td>\n",
       "      <td>1</td>\n",
       "      <td>0</td>\n",
       "      <td>A/5 21171</td>\n",
       "      <td>7.2500</td>\n",
       "      <td>NaN</td>\n",
       "      <td>S</td>\n",
       "    </tr>\n",
       "    <tr>\n",
       "      <th>1</th>\n",
       "      <td>2</td>\n",
       "      <td>1</td>\n",
       "      <td>1</td>\n",
       "      <td>Cumings, Mrs. John Bradley (Florence Briggs Th...</td>\n",
       "      <td>female</td>\n",
       "      <td>38.0</td>\n",
       "      <td>1</td>\n",
       "      <td>0</td>\n",
       "      <td>PC 17599</td>\n",
       "      <td>71.2833</td>\n",
       "      <td>C85</td>\n",
       "      <td>C</td>\n",
       "    </tr>\n",
       "    <tr>\n",
       "      <th>2</th>\n",
       "      <td>3</td>\n",
       "      <td>1</td>\n",
       "      <td>3</td>\n",
       "      <td>Heikkinen, Miss. Laina</td>\n",
       "      <td>female</td>\n",
       "      <td>26.0</td>\n",
       "      <td>0</td>\n",
       "      <td>0</td>\n",
       "      <td>STON/O2. 3101282</td>\n",
       "      <td>7.9250</td>\n",
       "      <td>NaN</td>\n",
       "      <td>S</td>\n",
       "    </tr>\n",
       "    <tr>\n",
       "      <th>3</th>\n",
       "      <td>4</td>\n",
       "      <td>1</td>\n",
       "      <td>1</td>\n",
       "      <td>Futrelle, Mrs. Jacques Heath (Lily May Peel)</td>\n",
       "      <td>female</td>\n",
       "      <td>35.0</td>\n",
       "      <td>1</td>\n",
       "      <td>0</td>\n",
       "      <td>113803</td>\n",
       "      <td>53.1000</td>\n",
       "      <td>C123</td>\n",
       "      <td>S</td>\n",
       "    </tr>\n",
       "    <tr>\n",
       "      <th>4</th>\n",
       "      <td>5</td>\n",
       "      <td>0</td>\n",
       "      <td>3</td>\n",
       "      <td>Allen, Mr. William Henry</td>\n",
       "      <td>male</td>\n",
       "      <td>35.0</td>\n",
       "      <td>0</td>\n",
       "      <td>0</td>\n",
       "      <td>373450</td>\n",
       "      <td>8.0500</td>\n",
       "      <td>NaN</td>\n",
       "      <td>S</td>\n",
       "    </tr>\n",
       "  </tbody>\n",
       "</table>\n",
       "</div>"
      ],
      "text/plain": [
       "   PassengerId  Survived  Pclass  \\\n",
       "0            1         0       3   \n",
       "1            2         1       1   \n",
       "2            3         1       3   \n",
       "3            4         1       1   \n",
       "4            5         0       3   \n",
       "\n",
       "                                                Name     Sex   Age  SibSp  \\\n",
       "0                            Braund, Mr. Owen Harris    male  22.0      1   \n",
       "1  Cumings, Mrs. John Bradley (Florence Briggs Th...  female  38.0      1   \n",
       "2                             Heikkinen, Miss. Laina  female  26.0      0   \n",
       "3       Futrelle, Mrs. Jacques Heath (Lily May Peel)  female  35.0      1   \n",
       "4                           Allen, Mr. William Henry    male  35.0      0   \n",
       "\n",
       "   Parch            Ticket     Fare Cabin Embarked  \n",
       "0      0         A/5 21171   7.2500   NaN        S  \n",
       "1      0          PC 17599  71.2833   C85        C  \n",
       "2      0  STON/O2. 3101282   7.9250   NaN        S  \n",
       "3      0            113803  53.1000  C123        S  \n",
       "4      0            373450   8.0500   NaN        S  "
      ]
     },
     "execution_count": 10,
     "metadata": {},
     "output_type": "execute_result"
    }
   ],
   "source": [
    "# Original data\n",
    "train_data_part.head()"
   ]
  },
  {
   "cell_type": "code",
   "execution_count": 11,
   "metadata": {
    "execution": {
     "iopub.execute_input": "2020-11-03T01:45:39.802739Z",
     "iopub.status.busy": "2020-11-03T01:45:39.802038Z",
     "iopub.status.idle": "2020-11-03T01:45:39.806482Z",
     "shell.execute_reply": "2020-11-03T01:45:39.805966Z"
    },
    "papermill": {
     "duration": 0.027652,
     "end_time": "2020-11-03T01:45:39.806589",
     "exception": false,
     "start_time": "2020-11-03T01:45:39.778937",
     "status": "completed"
    },
    "tags": []
   },
   "outputs": [
    {
     "data": {
      "text/plain": [
       "PassengerId      0\n",
       "Survived         0\n",
       "Pclass           0\n",
       "Name             0\n",
       "Sex              0\n",
       "Age            177\n",
       "SibSp            0\n",
       "Parch            0\n",
       "Ticket           0\n",
       "Fare             0\n",
       "Cabin          687\n",
       "Embarked         2\n",
       "dtype: int64"
      ]
     },
     "execution_count": 11,
     "metadata": {},
     "output_type": "execute_result"
    }
   ],
   "source": [
    "#Null Values in Original Data\n",
    "train_data_part.isnull().sum()"
   ]
  },
  {
   "cell_type": "code",
   "execution_count": 12,
   "metadata": {
    "execution": {
     "iopub.execute_input": "2020-11-03T01:45:39.847363Z",
     "iopub.status.busy": "2020-11-03T01:45:39.846656Z",
     "iopub.status.idle": "2020-11-03T01:45:39.871653Z",
     "shell.execute_reply": "2020-11-03T01:45:39.871145Z"
    },
    "papermill": {
     "duration": 0.048665,
     "end_time": "2020-11-03T01:45:39.871782",
     "exception": false,
     "start_time": "2020-11-03T01:45:39.823117",
     "status": "completed"
    },
    "tags": []
   },
   "outputs": [
    {
     "data": {
      "text/html": [
       "<div>\n",
       "<style scoped>\n",
       "    .dataframe tbody tr th:only-of-type {\n",
       "        vertical-align: middle;\n",
       "    }\n",
       "\n",
       "    .dataframe tbody tr th {\n",
       "        vertical-align: top;\n",
       "    }\n",
       "\n",
       "    .dataframe thead th {\n",
       "        text-align: right;\n",
       "    }\n",
       "</style>\n",
       "<table border=\"1\" class=\"dataframe\">\n",
       "  <thead>\n",
       "    <tr style=\"text-align: right;\">\n",
       "      <th></th>\n",
       "      <th>PassengerId</th>\n",
       "      <th>Survived</th>\n",
       "      <th>Pclass</th>\n",
       "      <th>Name</th>\n",
       "      <th>Sex</th>\n",
       "      <th>Age</th>\n",
       "      <th>SibSp</th>\n",
       "      <th>Parch</th>\n",
       "      <th>Ticket</th>\n",
       "      <th>Fare</th>\n",
       "      <th>Cabin</th>\n",
       "      <th>Embarked</th>\n",
       "    </tr>\n",
       "  </thead>\n",
       "  <tbody>\n",
       "    <tr>\n",
       "      <th>0</th>\n",
       "      <td>1</td>\n",
       "      <td>0</td>\n",
       "      <td>3</td>\n",
       "      <td>Braund, Mr. Owen Harris</td>\n",
       "      <td>male</td>\n",
       "      <td>22.0</td>\n",
       "      <td>1</td>\n",
       "      <td>0</td>\n",
       "      <td>A/5 21171</td>\n",
       "      <td>7.2500</td>\n",
       "      <td>B96 B98</td>\n",
       "      <td>S</td>\n",
       "    </tr>\n",
       "    <tr>\n",
       "      <th>1</th>\n",
       "      <td>2</td>\n",
       "      <td>1</td>\n",
       "      <td>1</td>\n",
       "      <td>Cumings, Mrs. John Bradley (Florence Briggs Th...</td>\n",
       "      <td>female</td>\n",
       "      <td>38.0</td>\n",
       "      <td>1</td>\n",
       "      <td>0</td>\n",
       "      <td>PC 17599</td>\n",
       "      <td>71.2833</td>\n",
       "      <td>C85</td>\n",
       "      <td>C</td>\n",
       "    </tr>\n",
       "    <tr>\n",
       "      <th>2</th>\n",
       "      <td>3</td>\n",
       "      <td>1</td>\n",
       "      <td>3</td>\n",
       "      <td>Heikkinen, Miss. Laina</td>\n",
       "      <td>female</td>\n",
       "      <td>26.0</td>\n",
       "      <td>0</td>\n",
       "      <td>0</td>\n",
       "      <td>STON/O2. 3101282</td>\n",
       "      <td>7.9250</td>\n",
       "      <td>B96 B98</td>\n",
       "      <td>S</td>\n",
       "    </tr>\n",
       "    <tr>\n",
       "      <th>3</th>\n",
       "      <td>4</td>\n",
       "      <td>1</td>\n",
       "      <td>1</td>\n",
       "      <td>Futrelle, Mrs. Jacques Heath (Lily May Peel)</td>\n",
       "      <td>female</td>\n",
       "      <td>35.0</td>\n",
       "      <td>1</td>\n",
       "      <td>0</td>\n",
       "      <td>113803</td>\n",
       "      <td>53.1000</td>\n",
       "      <td>C123</td>\n",
       "      <td>S</td>\n",
       "    </tr>\n",
       "    <tr>\n",
       "      <th>4</th>\n",
       "      <td>5</td>\n",
       "      <td>0</td>\n",
       "      <td>3</td>\n",
       "      <td>Allen, Mr. William Henry</td>\n",
       "      <td>male</td>\n",
       "      <td>35.0</td>\n",
       "      <td>0</td>\n",
       "      <td>0</td>\n",
       "      <td>373450</td>\n",
       "      <td>8.0500</td>\n",
       "      <td>B96 B98</td>\n",
       "      <td>S</td>\n",
       "    </tr>\n",
       "  </tbody>\n",
       "</table>\n",
       "</div>"
      ],
      "text/plain": [
       "   PassengerId  Survived  Pclass  \\\n",
       "0            1         0       3   \n",
       "1            2         1       1   \n",
       "2            3         1       3   \n",
       "3            4         1       1   \n",
       "4            5         0       3   \n",
       "\n",
       "                                                Name     Sex   Age  SibSp  \\\n",
       "0                            Braund, Mr. Owen Harris    male  22.0      1   \n",
       "1  Cumings, Mrs. John Bradley (Florence Briggs Th...  female  38.0      1   \n",
       "2                             Heikkinen, Miss. Laina  female  26.0      0   \n",
       "3       Futrelle, Mrs. Jacques Heath (Lily May Peel)  female  35.0      1   \n",
       "4                           Allen, Mr. William Henry    male  35.0      0   \n",
       "\n",
       "   Parch            Ticket     Fare    Cabin Embarked  \n",
       "0      0         A/5 21171   7.2500  B96 B98        S  \n",
       "1      0          PC 17599  71.2833      C85        C  \n",
       "2      0  STON/O2. 3101282   7.9250  B96 B98        S  \n",
       "3      0            113803  53.1000     C123        S  \n",
       "4      0            373450   8.0500  B96 B98        S  "
      ]
     },
     "execution_count": 12,
     "metadata": {},
     "output_type": "execute_result"
    }
   ],
   "source": [
    "# Data After imputation\n",
    "train_data_new = train_data_clean(train_data_part.copy()) # Data Cleaning and Imputation done inside train_data_clean function.\n",
    "train_data_new.head()"
   ]
  },
  {
   "cell_type": "code",
   "execution_count": 13,
   "metadata": {
    "execution": {
     "iopub.execute_input": "2020-11-03T01:45:39.914419Z",
     "iopub.status.busy": "2020-11-03T01:45:39.913667Z",
     "iopub.status.idle": "2020-11-03T01:45:39.918013Z",
     "shell.execute_reply": "2020-11-03T01:45:39.917442Z"
    },
    "papermill": {
     "duration": 0.028504,
     "end_time": "2020-11-03T01:45:39.918154",
     "exception": false,
     "start_time": "2020-11-03T01:45:39.889650",
     "status": "completed"
    },
    "tags": []
   },
   "outputs": [
    {
     "data": {
      "text/plain": [
       "PassengerId    0\n",
       "Survived       0\n",
       "Pclass         0\n",
       "Name           0\n",
       "Sex            0\n",
       "Age            0\n",
       "SibSp          0\n",
       "Parch          0\n",
       "Ticket         0\n",
       "Fare           0\n",
       "Cabin          0\n",
       "Embarked       0\n",
       "dtype: int64"
      ]
     },
     "execution_count": 13,
     "metadata": {},
     "output_type": "execute_result"
    }
   ],
   "source": [
    "train_data_new.isnull().sum()"
   ]
  },
  {
   "cell_type": "code",
   "execution_count": 14,
   "metadata": {
    "execution": {
     "iopub.execute_input": "2020-11-03T01:45:39.969393Z",
     "iopub.status.busy": "2020-11-03T01:45:39.967355Z",
     "iopub.status.idle": "2020-11-03T01:45:39.980660Z",
     "shell.execute_reply": "2020-11-03T01:45:39.981305Z"
    },
    "papermill": {
     "duration": 0.046016,
     "end_time": "2020-11-03T01:45:39.981472",
     "exception": false,
     "start_time": "2020-11-03T01:45:39.935456",
     "status": "completed"
    },
    "tags": []
   },
   "outputs": [],
   "source": [
    "cols_todrop = ['PassengerId','Name','Ticket','Cabin']\n",
    "xdata,ydata,colnames = data_prep_titanic(train_data_new.copy(),cols_todrop)\n",
    "xtrain,xtest,ytrain,ytest = train_test_split(xdata,ydata,test_size=0.2,random_state=100,stratify=ydata)"
   ]
  },
  {
   "cell_type": "markdown",
   "metadata": {
    "papermill": {
     "duration": 0.017122,
     "end_time": "2020-11-03T01:45:40.016363",
     "exception": false,
     "start_time": "2020-11-03T01:45:39.999241",
     "status": "completed"
    },
    "tags": []
   },
   "source": [
    "# **Now, lets build a simple xgbclassifier model using the clean data**"
   ]
  },
  {
   "cell_type": "code",
   "execution_count": 15,
   "metadata": {
    "execution": {
     "iopub.execute_input": "2020-11-03T01:45:40.057274Z",
     "iopub.status.busy": "2020-11-03T01:45:40.056656Z",
     "iopub.status.idle": "2020-11-03T01:45:40.059803Z",
     "shell.execute_reply": "2020-11-03T01:45:40.059225Z"
    },
    "papermill": {
     "duration": 0.026211,
     "end_time": "2020-11-03T01:45:40.059904",
     "exception": false,
     "start_time": "2020-11-03T01:45:40.033693",
     "status": "completed"
    },
    "tags": []
   },
   "outputs": [],
   "source": [
    "params_grid = {\n",
    "    'learning_rate':[0.0001,0.0003,0.001,0.003,0.01,0.03,0.1,0.3],\n",
    "    'gamma':[0,1,2,3,5,7,9],\n",
    "    'max_depth':[4,5,6,7,8,9],\n",
    "    'n_estimators':[10,30,50,70,90,100]\n",
    "}"
   ]
  },
  {
   "cell_type": "code",
   "execution_count": 16,
   "metadata": {
    "execution": {
     "iopub.execute_input": "2020-11-03T01:45:40.105131Z",
     "iopub.status.busy": "2020-11-03T01:45:40.104444Z",
     "iopub.status.idle": "2020-11-03T01:51:15.301694Z",
     "shell.execute_reply": "2020-11-03T01:51:15.302426Z"
    },
    "papermill": {
     "duration": 335.225207,
     "end_time": "2020-11-03T01:51:15.302638",
     "exception": false,
     "start_time": "2020-11-03T01:45:40.077431",
     "status": "completed"
    },
    "tags": []
   },
   "outputs": [
    {
     "data": {
      "text/plain": [
       "XGBClassifier(base_score=0.5, booster='gbtree', colsample_bylevel=1,\n",
       "              colsample_bynode=1, colsample_bytree=1, gamma=1, gpu_id=-1,\n",
       "              importance_type='gain', interaction_constraints='',\n",
       "              learning_rate=0.03, max_delta_step=0, max_depth=8,\n",
       "              min_child_weight=1, missing=nan, monotone_constraints='()',\n",
       "              n_estimators=100, n_jobs=0, num_parallel_tree=1, random_state=0,\n",
       "              reg_alpha=0, reg_lambda=1, scale_pos_weight=1, subsample=1,\n",
       "              tree_method='exact', validate_parameters=1, verbosity=None)"
      ]
     },
     "execution_count": 16,
     "metadata": {},
     "output_type": "execute_result"
    }
   ],
   "source": [
    "# Performing grid search for xgbclassifier\n",
    "estimator = xgb.XGBClassifier()\n",
    "best_params = xgboost_grid_search(estimator,params_grid,xtrain,ytrain)\n",
    "\n",
    "learning_rate = best_params['learning_rate']\n",
    "gamma = best_params['gamma']\n",
    "max_depth = best_params['max_depth']\n",
    "n_estimators = best_params['n_estimators']\n",
    "\n",
    "clf = xgb.XGBClassifier(learning_rate=learning_rate,n_estimators=n_estimators,max_depth=max_depth,gamma=gamma)\n",
    "clf.fit(xtrain,ytrain)"
   ]
  },
  {
   "cell_type": "code",
   "execution_count": 17,
   "metadata": {
    "execution": {
     "iopub.execute_input": "2020-11-03T01:51:15.365531Z",
     "iopub.status.busy": "2020-11-03T01:51:15.364700Z",
     "iopub.status.idle": "2020-11-03T01:51:15.369057Z",
     "shell.execute_reply": "2020-11-03T01:51:15.370275Z"
    },
    "papermill": {
     "duration": 0.041987,
     "end_time": "2020-11-03T01:51:15.370575",
     "exception": false,
     "start_time": "2020-11-03T01:51:15.328588",
     "status": "completed"
    },
    "tags": []
   },
   "outputs": [
    {
     "name": "stdout",
     "output_type": "stream",
     "text": [
      "Train set accuracy for XGBoost using GridSearchCV: 0.8862359550561798\n"
     ]
    }
   ],
   "source": [
    "# Accuracy of the best model on train set\n",
    "ypred_train = clf.predict(xtrain)\n",
    "print('Train set accuracy for XGBoost using GridSearchCV:',accuracy_metric(ytrain,ypred_train))"
   ]
  },
  {
   "cell_type": "code",
   "execution_count": 18,
   "metadata": {
    "execution": {
     "iopub.execute_input": "2020-11-03T01:51:15.432175Z",
     "iopub.status.busy": "2020-11-03T01:51:15.431309Z",
     "iopub.status.idle": "2020-11-03T01:51:15.436517Z",
     "shell.execute_reply": "2020-11-03T01:51:15.437929Z"
    },
    "papermill": {
     "duration": 0.040823,
     "end_time": "2020-11-03T01:51:15.438300",
     "exception": false,
     "start_time": "2020-11-03T01:51:15.397477",
     "status": "completed"
    },
    "tags": []
   },
   "outputs": [
    {
     "name": "stdout",
     "output_type": "stream",
     "text": [
      "Test set accuracy for XGBoost using GridSearchCV: 0.8491620111731844\n"
     ]
    }
   ],
   "source": [
    "# Accuracy on the test set\n",
    "ypred = clf.predict(xtest)\n",
    "print('Test set accuracy for XGBoost using GridSearchCV:',accuracy_metric(ytest,ypred))"
   ]
  },
  {
   "cell_type": "code",
   "execution_count": 19,
   "metadata": {
    "execution": {
     "iopub.execute_input": "2020-11-03T01:51:15.506579Z",
     "iopub.status.busy": "2020-11-03T01:51:15.505739Z",
     "iopub.status.idle": "2020-11-03T01:51:15.560414Z",
     "shell.execute_reply": "2020-11-03T01:51:15.561505Z"
    },
    "papermill": {
     "duration": 0.094471,
     "end_time": "2020-11-03T01:51:15.561780",
     "exception": false,
     "start_time": "2020-11-03T01:51:15.467309",
     "status": "completed"
    },
    "tags": []
   },
   "outputs": [
    {
     "name": "stdout",
     "output_type": "stream",
     "text": [
      "Test set accuracy for Default XGBoost: 0.88268156424581\n"
     ]
    }
   ],
   "source": [
    "# Default Model Comparison and looking for accuracy on test set\n",
    "clf_def = xgb.XGBClassifier()\n",
    "clf_def.fit(xtrain,ytrain)\n",
    "ypred_def = clf_def.predict(xtest)\n",
    "print('Test set accuracy for Default XGBoost:',accuracy_metric(ytest,ypred_def))"
   ]
  },
  {
   "cell_type": "code",
   "execution_count": 20,
   "metadata": {
    "execution": {
     "iopub.execute_input": "2020-11-03T01:51:15.625444Z",
     "iopub.status.busy": "2020-11-03T01:51:15.624613Z",
     "iopub.status.idle": "2020-11-03T01:51:15.635148Z",
     "shell.execute_reply": "2020-11-03T01:51:15.635895Z"
    },
    "papermill": {
     "duration": 0.045895,
     "end_time": "2020-11-03T01:51:15.636063",
     "exception": false,
     "start_time": "2020-11-03T01:51:15.590168",
     "status": "completed"
    },
    "tags": []
   },
   "outputs": [
    {
     "name": "stdout",
     "output_type": "stream",
     "text": [
      "Train set accuracy for Default XGBoost: 0.9705056179775281\n"
     ]
    }
   ],
   "source": [
    "# Default Model Accuracy on train set\n",
    "ypred_def_train = clf_def.predict(xtrain)\n",
    "print('Train set accuracy for Default XGBoost:',accuracy_metric(ytrain,ypred_def_train))"
   ]
  },
  {
   "cell_type": "markdown",
   "metadata": {
    "papermill": {
     "duration": 0.028277,
     "end_time": "2020-11-03T01:51:15.692511",
     "exception": false,
     "start_time": "2020-11-03T01:51:15.664234",
     "status": "completed"
    },
    "tags": []
   },
   "source": [
    "# **Generating Results for test set as well**"
   ]
  },
  {
   "cell_type": "code",
   "execution_count": 21,
   "metadata": {
    "execution": {
     "iopub.execute_input": "2020-11-03T01:51:15.759384Z",
     "iopub.status.busy": "2020-11-03T01:51:15.758562Z",
     "iopub.status.idle": "2020-11-03T01:51:16.045240Z",
     "shell.execute_reply": "2020-11-03T01:51:16.044553Z"
    },
    "papermill": {
     "duration": 0.324731,
     "end_time": "2020-11-03T01:51:16.045358",
     "exception": false,
     "start_time": "2020-11-03T01:51:15.720627",
     "status": "completed"
    },
    "tags": []
   },
   "outputs": [],
   "source": [
    "test_data = pd.read_csv('../input/titanic/test.csv')\n",
    "test_data_clean = test_impute_using_train_data(test_data.copy(),train_data_new.copy())\n",
    "dtest = test_data_prep_titanic(test_data_clean,cols_todrop,colnames)\n",
    "dpred = clf.predict(dtest)\n",
    "\n",
    "test_data_submit = test_data_clean.copy()\n",
    "test_data_submit['Survived'] = dpred\n",
    "test_data_submit_part = test_data_submit[['PassengerId','Survived']]\n",
    "test_data_submit_part.to_csv('submissions.csv',index=False)"
   ]
  },
  {
   "cell_type": "code",
   "execution_count": null,
   "metadata": {
    "papermill": {
     "duration": 0.019637,
     "end_time": "2020-11-03T01:51:16.085652",
     "exception": false,
     "start_time": "2020-11-03T01:51:16.066015",
     "status": "completed"
    },
    "tags": []
   },
   "outputs": [],
   "source": []
  }
 ],
 "metadata": {
  "kernelspec": {
   "display_name": "Python 3",
   "language": "python",
   "name": "python3"
  },
  "language_info": {
   "codemirror_mode": {
    "name": "ipython",
    "version": 3
   },
   "file_extension": ".py",
   "mimetype": "text/x-python",
   "name": "python",
   "nbconvert_exporter": "python",
   "pygments_lexer": "ipython3",
   "version": "3.7.6"
  },
  "papermill": {
   "duration": 343.267188,
   "end_time": "2020-11-03T01:51:16.213423",
   "environment_variables": {},
   "exception": null,
   "input_path": "__notebook__.ipynb",
   "output_path": "__notebook__.ipynb",
   "parameters": {},
   "start_time": "2020-11-03T01:45:32.946235",
   "version": "2.1.0"
  }
 },
 "nbformat": 4,
 "nbformat_minor": 4
}
